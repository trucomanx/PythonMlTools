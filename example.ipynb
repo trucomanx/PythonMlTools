{
 "cells": [
  {
   "cell_type": "code",
   "execution_count": 1,
   "id": "39761310-505c-4182-b36f-a3a969cbf279",
   "metadata": {},
   "outputs": [],
   "source": [
    "import sys\n",
    "import numpy as np\n",
    "\n",
    "sys.path.append(\"library\");\n"
   ]
  },
  {
   "cell_type": "code",
   "execution_count": 2,
   "id": "8dc83af3-3ea3-429f-8856-9b81e1fe3781",
   "metadata": {},
   "outputs": [
    {
     "name": "stdout",
     "output_type": "stream",
     "text": [
      "0.17095059445466854\n",
      "1.5219280948873621\n",
      "0.9709505944546686\n",
      "0.7219280948873623\n",
      "[[0.4 0. ]\n",
      " [0.4 0.2]]\n",
      "0.17095059445466845\n",
      "1.5219280948873621\n",
      "0.9709505944546686\n",
      "0.7219280948873623\n"
     ]
    }
   ],
   "source": [
    "import FeatureSelection.Metrics.FeatureInformation as FI\n",
    "\n",
    "InfA=FI.InformationAnalysis([1,2,3,3,4],[-1,-1,-1,-1,2],2,2)\n",
    "print(InfA.MutualInformation())\n",
    "print(InfA.JointEntropy())\n",
    "print(InfA.EntropyA())\n",
    "print(InfA.EntropyB())\n",
    "\n",
    "print(InfA.Pab)\n",
    "InfB=FI.InformationAnalysis(InfA.Pab)\n",
    "print(InfB.MutualInformation())\n",
    "print(InfB.JointEntropy())\n",
    "print(InfB.EntropyA())\n",
    "print(InfB.EntropyB())"
   ]
  },
  {
   "cell_type": "code",
   "execution_count": 4,
   "id": "085ba570-607f-4e51-ae55-9c6547ff3824",
   "metadata": {},
   "outputs": [
    {
     "name": "stdout",
     "output_type": "stream",
     "text": [
      "[[0.02942515 0.21742407 0.02942516]\n",
      " [0.05886019 0.22937672 0.08833849]\n",
      " [0.0295178  0.04143097 0.27620146]]\n"
     ]
    }
   ],
   "source": [
    "import DensityEstimation.KdeExtras as kext\n",
    "from sklearn.neighbors import KernelDensity\n",
    "\n",
    "XX=[[1,2],[2,3],[-1,2],[2,1],[3,3],[2,3]];\n",
    "kde = KernelDensity(kernel='gaussian', bandwidth=0.5).fit(XX)\n",
    "P=kext.kde_get2d_joint_prob(kde, -1,3,3,1,3,3)\n",
    "\n",
    "print(P)"
   ]
  },
  {
   "cell_type": "code",
   "execution_count": null,
   "id": "31cf6962-8ebd-4e62-abbe-b80632cd02b8",
   "metadata": {},
   "outputs": [],
   "source": []
  }
 ],
 "metadata": {
  "kernelspec": {
   "display_name": "Python 3",
   "language": "python",
   "name": "python3"
  },
  "language_info": {
   "codemirror_mode": {
    "name": "ipython",
    "version": 3
   },
   "file_extension": ".py",
   "mimetype": "text/x-python",
   "name": "python",
   "nbconvert_exporter": "python",
   "pygments_lexer": "ipython3",
   "version": "3.8.10"
  }
 },
 "nbformat": 4,
 "nbformat_minor": 5
}
