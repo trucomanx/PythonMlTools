{
 "cells": [
  {
   "cell_type": "code",
   "execution_count": 1,
   "id": "39761310-505c-4182-b36f-a3a969cbf279",
   "metadata": {},
   "outputs": [],
   "source": [
    "import sys\n",
    "import numpy as np\n",
    "\n",
    "sys.path.append(\"library\");\n"
   ]
  },
  {
   "cell_type": "code",
   "execution_count": 3,
   "id": "8dc83af3-3ea3-429f-8856-9b81e1fe3781",
   "metadata": {},
   "outputs": [
    {
     "name": "stdout",
     "output_type": "stream",
     "text": [
      "0.17095059445466854\n",
      "1.5219280948873621\n",
      "0.9709505944546686\n",
      "0.7219280948873623\n",
      "0.1760651833687608\n"
     ]
    }
   ],
   "source": [
    "import FeatureSelection.Metrics.FeatureInformation as FI\n",
    "\n",
    "mutual,joint,infa,infb=FI.AllInformation([1,2,3,3,4],[-1,-1,-1,-1,2])\n",
    "print(mutual)\n",
    "print(joint)\n",
    "print(infa)\n",
    "print(infb)\n",
    "\n",
    "print(mutual/infa)"
   ]
  },
  {
   "cell_type": "code",
   "execution_count": null,
   "id": "085ba570-607f-4e51-ae55-9c6547ff3824",
   "metadata": {},
   "outputs": [],
   "source": []
  }
 ],
 "metadata": {
  "kernelspec": {
   "display_name": "Python 3",
   "language": "python",
   "name": "python3"
  },
  "language_info": {
   "codemirror_mode": {
    "name": "ipython",
    "version": 3
   },
   "file_extension": ".py",
   "mimetype": "text/x-python",
   "name": "python",
   "nbconvert_exporter": "python",
   "pygments_lexer": "ipython3",
   "version": "3.8.10"
  }
 },
 "nbformat": 4,
 "nbformat_minor": 5
}
